{
  "nbformat": 4,
  "nbformat_minor": 0,
  "metadata": {
    "colab": {
      "name": "KDD Project.ipynb",
      "provenance": [],
      "collapsed_sections": []
    },
    "kernelspec": {
      "name": "python3",
      "display_name": "Python 3"
    },
    "language_info": {
      "name": "python"
    }
  },
  "cells": [
    {
      "cell_type": "markdown",
      "metadata": {
        "id": "SuwJcnhqjHNP"
      },
      "source": [
        "# Import Necesssary Packages"
      ]
    },
    {
      "cell_type": "code",
      "metadata": {
        "id": "FJAQId710Sc8"
      },
      "source": [
        "import pandas as pd\n",
        "import seaborn as sns\n",
        "import numpy as np\n",
        "import plotly.express as px\n",
        "import matplotlib.pyplot as plt\n",
        "from sklearn.model_selection import train_test_split\n",
        "from sklearn.linear_model import LogisticRegression\n",
        "from sklearn.metrics import accuracy_score, confusion_matrix, f1_score\n",
        "from sklearn.utils import shuffle\n",
        "from sklearn.metrics import roc_curve\n",
        "from sklearn.metrics import roc_auc_score"
      ],
      "execution_count": 269,
      "outputs": []
    },
    {
      "cell_type": "code",
      "metadata": {
        "id": "D2LondnKyOtj"
      },
      "source": [
        "from sklearn.preprocessing import LabelEncoder,OneHotEncoder\n",
        "import bisect\n",
        "from scipy.sparse import hstack"
      ],
      "execution_count": 215,
      "outputs": []
    },
    {
      "cell_type": "markdown",
      "metadata": {
        "id": "U7kJHNGsjMZw"
      },
      "source": [
        "# Read the data"
      ]
    },
    {
      "cell_type": "code",
      "metadata": {
        "id": "-5pEsXux1fxL"
      },
      "source": [
        "kdd_data = pd.read_csv('/content/orange_small_train.txt', delimiter=\"\\t\")"
      ],
      "execution_count": 179,
      "outputs": []
    },
    {
      "cell_type": "code",
      "metadata": {
        "id": "Hz5Ch4d6jT1e"
      },
      "source": [
        "kdd_data['appetency_labels'] = pd.read_table(\"/content/orange_small_train_appetency.labels\", header = None, names = ['appetency'])\n",
        "kdd_data['churn_labels'] = pd.read_table(\"/content/orange_small_train_churn.labels\", header = None, names = ['churn'])\n",
        "kdd_data['upselling_labels'] = pd.read_table(\"/content/orange_small_train_upselling.labels\", header= None, names = ['upselling'])"
      ],
      "execution_count": 180,
      "outputs": []
    },
    {
      "cell_type": "code",
      "metadata": {
        "id": "3fUqd4_SnNPn"
      },
      "source": [
        "kdd_data['appetency_labels'] = kdd_data['appetency_labels'].replace(-1, 0)\n",
        "kdd_data['churn_labels'] = kdd_data['churn_labels'].replace(-1, 0)\n",
        "kdd_data['upselling_labels'] = kdd_data['upselling_labels'].replace(-1, 0)"
      ],
      "execution_count": 182,
      "outputs": []
    },
    {
      "cell_type": "code",
      "metadata": {
        "colab": {
          "base_uri": "https://localhost:8080/"
        },
        "id": "JRKvlifWnJJp",
        "outputId": "350f5b62-fbe1-44fd-a896-a2a05b4fa1ba"
      },
      "source": [
        "print(\"There are\", kdd_data.shape[0], \"observations and\", kdd_data.shape[1], \"variables\")"
      ],
      "execution_count": null,
      "outputs": [
        {
          "output_type": "stream",
          "text": [
            "There are 50000 observations and 233 variables\n"
          ],
          "name": "stdout"
        }
      ]
    },
    {
      "cell_type": "markdown",
      "metadata": {
        "id": "OJADE89EkRx1"
      },
      "source": [
        "# Handling missing values"
      ]
    },
    {
      "cell_type": "code",
      "metadata": {
        "colab": {
          "base_uri": "https://localhost:8080/"
        },
        "id": "k3cxBo7D1mSA",
        "outputId": "c6a4652d-449d-43da-ccfc-389d558bb85d"
      },
      "source": [
        "kdd_data.isna().sum()"
      ],
      "execution_count": 183,
      "outputs": [
        {
          "output_type": "execute_result",
          "data": {
            "text/plain": [
              "Var1                49298\n",
              "Var2                48759\n",
              "Var3                48760\n",
              "Var4                48421\n",
              "Var5                48513\n",
              "                    ...  \n",
              "Var229              28432\n",
              "Var230              50000\n",
              "appetency_labels        0\n",
              "churn_labels            0\n",
              "upselling_labels        0\n",
              "Length: 233, dtype: int64"
            ]
          },
          "metadata": {
            "tags": []
          },
          "execution_count": 183
        }
      ]
    },
    {
      "cell_type": "markdown",
      "metadata": {
        "id": "2n2DO-PxkZZk"
      },
      "source": [
        "## Drop column if over 40% of the columns are null values"
      ]
    },
    {
      "cell_type": "code",
      "metadata": {
        "id": "-Kv2Zve84V45"
      },
      "source": [
        "columns= [cols for cols in kdd_data.columns if kdd_data[cols].isnull().sum()/kdd_data.shape[0] > 0.40] #Selecting columns that have over 40% of null values"
      ],
      "execution_count": 265,
      "outputs": []
    },
    {
      "cell_type": "code",
      "metadata": {
        "id": "SqyMUVSMll_V"
      },
      "source": [
        "kdd_data.drop(columns, axis = 1, inplace = True) #Dropping columns"
      ],
      "execution_count": 185,
      "outputs": []
    },
    {
      "cell_type": "code",
      "metadata": {
        "colab": {
          "base_uri": "https://localhost:8080/"
        },
        "id": "U7dz7zfulwVt",
        "outputId": "8f18dc2d-7fb9-458b-9a89-18bc37bb2197"
      },
      "source": [
        "len(kdd_data.columns)"
      ],
      "execution_count": 186,
      "outputs": [
        {
          "output_type": "execute_result",
          "data": {
            "text/plain": [
              "70"
            ]
          },
          "metadata": {
            "tags": []
          },
          "execution_count": 186
        }
      ]
    },
    {
      "cell_type": "code",
      "metadata": {
        "colab": {
          "base_uri": "https://localhost:8080/"
        },
        "id": "EBhq4DW8lz54",
        "outputId": "b18d1874-7209-48b4-f23c-bc88d8ab6a17"
      },
      "source": [
        "kdd_data.dtypes #Types of the columns"
      ],
      "execution_count": 187,
      "outputs": [
        {
          "output_type": "execute_result",
          "data": {
            "text/plain": [
              "Var6                float64\n",
              "Var7                float64\n",
              "Var13               float64\n",
              "Var21               float64\n",
              "Var22               float64\n",
              "                     ...   \n",
              "Var227               object\n",
              "Var228               object\n",
              "appetency_labels      int64\n",
              "churn_labels          int64\n",
              "upselling_labels      int64\n",
              "Length: 70, dtype: object"
            ]
          },
          "metadata": {
            "tags": []
          },
          "execution_count": 187
        }
      ]
    },
    {
      "cell_type": "code",
      "metadata": {
        "colab": {
          "base_uri": "https://localhost:8080/"
        },
        "id": "TrwmueeynOek",
        "outputId": "106b63b2-f498-4f54-a049-a28e3ef10372"
      },
      "source": [
        "kdd_data.isna().sum() # Number of null values in each column"
      ],
      "execution_count": 188,
      "outputs": [
        {
          "output_type": "execute_result",
          "data": {
            "text/plain": [
              "Var6                5529\n",
              "Var7                5539\n",
              "Var13               5539\n",
              "Var21               5529\n",
              "Var22               5009\n",
              "                    ... \n",
              "Var227                 0\n",
              "Var228                 0\n",
              "appetency_labels       0\n",
              "churn_labels           0\n",
              "upselling_labels       0\n",
              "Length: 70, dtype: int64"
            ]
          },
          "metadata": {
            "tags": []
          },
          "execution_count": 188
        }
      ]
    },
    {
      "cell_type": "code",
      "metadata": {
        "id": "w1DbCGXL0qK0"
      },
      "source": [
        "missing_data = pd.DataFrame({'Column': kdd_data.columns, 'NA_count': kdd_data.isna().sum()})"
      ],
      "execution_count": 189,
      "outputs": []
    },
    {
      "cell_type": "code",
      "metadata": {
        "colab": {
          "base_uri": "https://localhost:8080/",
          "height": 542
        },
        "id": "n8qc_lkS39pB",
        "outputId": "2f92294c-1e50-4ee7-936a-5403f12e0b9e"
      },
      "source": [
        "fig = px.bar(x= missing_data.Column, y=missing_data.NA_count, labels={'x':'Column', 'y':'Missing Value Count'}, title='Missing Value counts')\n",
        "fig.show()"
      ],
      "execution_count": 190,
      "outputs": [
        {
          "output_type": "display_data",
          "data": {
            "text/html": [
              "<html>\n",
              "<head><meta charset=\"utf-8\" /></head>\n",
              "<body>\n",
              "    <div>\n",
              "            <script src=\"https://cdnjs.cloudflare.com/ajax/libs/mathjax/2.7.5/MathJax.js?config=TeX-AMS-MML_SVG\"></script><script type=\"text/javascript\">if (window.MathJax) {MathJax.Hub.Config({SVG: {font: \"STIX-Web\"}});}</script>\n",
              "                <script type=\"text/javascript\">window.PlotlyConfig = {MathJaxConfig: 'local'};</script>\n",
              "        <script src=\"https://cdn.plot.ly/plotly-latest.min.js\"></script>    \n",
              "            <div id=\"c91be684-8a8a-48cf-b4ba-2279d04d2198\" class=\"plotly-graph-div\" style=\"height:525px; width:100%;\"></div>\n",
              "            <script type=\"text/javascript\">\n",
              "                \n",
              "                    window.PLOTLYENV=window.PLOTLYENV || {};\n",
              "                    \n",
              "                if (document.getElementById(\"c91be684-8a8a-48cf-b4ba-2279d04d2198\")) {\n",
              "                    Plotly.newPlot(\n",
              "                        'c91be684-8a8a-48cf-b4ba-2279d04d2198',\n",
              "                        [{\"alignmentgroup\": \"True\", \"hoverlabel\": {\"namelength\": 0}, \"hovertemplate\": \"Column=%{x}<br>Missing Value Count=%{y}\", \"legendgroup\": \"\", \"marker\": {\"color\": \"#636efa\"}, \"name\": \"\", \"offsetgroup\": \"\", \"orientation\": \"v\", \"showlegend\": false, \"textposition\": \"auto\", \"type\": \"bar\", \"x\": [\"Var6\", \"Var7\", \"Var13\", \"Var21\", \"Var22\", \"Var24\", \"Var25\", \"Var28\", \"Var35\", \"Var38\", \"Var44\", \"Var57\", \"Var65\", \"Var73\", \"Var74\", \"Var76\", \"Var78\", \"Var81\", \"Var83\", \"Var85\", \"Var109\", \"Var112\", \"Var113\", \"Var119\", \"Var123\", \"Var125\", \"Var126\", \"Var132\", \"Var133\", \"Var134\", \"Var140\", \"Var143\", \"Var144\", \"Var149\", \"Var153\", \"Var160\", \"Var163\", \"Var173\", \"Var181\", \"Var192\", \"Var193\", \"Var195\", \"Var196\", \"Var197\", \"Var198\", \"Var199\", \"Var202\", \"Var203\", \"Var204\", \"Var205\", \"Var206\", \"Var207\", \"Var208\", \"Var210\", \"Var211\", \"Var212\", \"Var216\", \"Var217\", \"Var218\", \"Var219\", \"Var220\", \"Var221\", \"Var222\", \"Var223\", \"Var226\", \"Var227\", \"Var228\", \"appetency_labels\", \"churn_labels\", \"upselling_labels\"], \"xaxis\": \"x\", \"y\": [5529, 5539, 5539, 5529, 5009, 7230, 5009, 5011, 5009, 5009, 5009, 0, 5539, 0, 5539, 5009, 5009, 5529, 5009, 5009, 7230, 5009, 0, 5529, 5009, 5539, 13920, 5009, 5009, 5009, 5539, 5009, 5529, 7230, 5009, 5009, 5009, 5009, 5009, 369, 0, 0, 0, 143, 0, 4, 1, 143, 0, 1934, 5529, 0, 143, 0, 0, 0, 0, 703, 703, 5211, 0, 0, 0, 5211, 0, 0, 0, 0, 0, 0], \"yaxis\": \"y\"}],\n",
              "                        {\"barmode\": \"relative\", \"legend\": {\"tracegroupgap\": 0}, \"template\": {\"data\": {\"bar\": [{\"error_x\": {\"color\": \"#2a3f5f\"}, \"error_y\": {\"color\": \"#2a3f5f\"}, \"marker\": {\"line\": {\"color\": \"#E5ECF6\", \"width\": 0.5}}, \"type\": \"bar\"}], \"barpolar\": [{\"marker\": {\"line\": {\"color\": \"#E5ECF6\", \"width\": 0.5}}, \"type\": \"barpolar\"}], \"carpet\": [{\"aaxis\": {\"endlinecolor\": \"#2a3f5f\", \"gridcolor\": \"white\", \"linecolor\": \"white\", \"minorgridcolor\": \"white\", \"startlinecolor\": \"#2a3f5f\"}, \"baxis\": {\"endlinecolor\": \"#2a3f5f\", \"gridcolor\": \"white\", \"linecolor\": \"white\", \"minorgridcolor\": \"white\", \"startlinecolor\": \"#2a3f5f\"}, \"type\": \"carpet\"}], \"choropleth\": [{\"colorbar\": {\"outlinewidth\": 0, \"ticks\": \"\"}, \"type\": \"choropleth\"}], \"contour\": [{\"colorbar\": {\"outlinewidth\": 0, \"ticks\": \"\"}, \"colorscale\": [[0.0, \"#0d0887\"], [0.1111111111111111, \"#46039f\"], [0.2222222222222222, \"#7201a8\"], [0.3333333333333333, \"#9c179e\"], [0.4444444444444444, \"#bd3786\"], [0.5555555555555556, \"#d8576b\"], [0.6666666666666666, \"#ed7953\"], [0.7777777777777778, \"#fb9f3a\"], [0.8888888888888888, \"#fdca26\"], [1.0, \"#f0f921\"]], \"type\": \"contour\"}], \"contourcarpet\": [{\"colorbar\": {\"outlinewidth\": 0, \"ticks\": \"\"}, \"type\": \"contourcarpet\"}], \"heatmap\": [{\"colorbar\": {\"outlinewidth\": 0, \"ticks\": \"\"}, \"colorscale\": [[0.0, \"#0d0887\"], [0.1111111111111111, \"#46039f\"], [0.2222222222222222, \"#7201a8\"], [0.3333333333333333, \"#9c179e\"], [0.4444444444444444, \"#bd3786\"], [0.5555555555555556, \"#d8576b\"], [0.6666666666666666, \"#ed7953\"], [0.7777777777777778, \"#fb9f3a\"], [0.8888888888888888, \"#fdca26\"], [1.0, \"#f0f921\"]], \"type\": \"heatmap\"}], \"heatmapgl\": [{\"colorbar\": {\"outlinewidth\": 0, \"ticks\": \"\"}, \"colorscale\": [[0.0, \"#0d0887\"], [0.1111111111111111, \"#46039f\"], [0.2222222222222222, \"#7201a8\"], [0.3333333333333333, \"#9c179e\"], [0.4444444444444444, \"#bd3786\"], [0.5555555555555556, \"#d8576b\"], [0.6666666666666666, \"#ed7953\"], [0.7777777777777778, \"#fb9f3a\"], [0.8888888888888888, \"#fdca26\"], [1.0, \"#f0f921\"]], \"type\": \"heatmapgl\"}], \"histogram\": [{\"marker\": {\"colorbar\": {\"outlinewidth\": 0, \"ticks\": \"\"}}, \"type\": \"histogram\"}], \"histogram2d\": [{\"colorbar\": {\"outlinewidth\": 0, \"ticks\": \"\"}, \"colorscale\": [[0.0, \"#0d0887\"], [0.1111111111111111, \"#46039f\"], [0.2222222222222222, \"#7201a8\"], [0.3333333333333333, \"#9c179e\"], [0.4444444444444444, \"#bd3786\"], [0.5555555555555556, \"#d8576b\"], [0.6666666666666666, \"#ed7953\"], [0.7777777777777778, \"#fb9f3a\"], [0.8888888888888888, \"#fdca26\"], [1.0, \"#f0f921\"]], \"type\": \"histogram2d\"}], \"histogram2dcontour\": [{\"colorbar\": {\"outlinewidth\": 0, \"ticks\": \"\"}, \"colorscale\": [[0.0, \"#0d0887\"], [0.1111111111111111, \"#46039f\"], [0.2222222222222222, \"#7201a8\"], [0.3333333333333333, \"#9c179e\"], [0.4444444444444444, \"#bd3786\"], [0.5555555555555556, \"#d8576b\"], [0.6666666666666666, \"#ed7953\"], [0.7777777777777778, \"#fb9f3a\"], [0.8888888888888888, \"#fdca26\"], [1.0, \"#f0f921\"]], \"type\": \"histogram2dcontour\"}], \"mesh3d\": [{\"colorbar\": {\"outlinewidth\": 0, \"ticks\": \"\"}, \"type\": \"mesh3d\"}], \"parcoords\": [{\"line\": {\"colorbar\": {\"outlinewidth\": 0, \"ticks\": \"\"}}, \"type\": \"parcoords\"}], \"pie\": [{\"automargin\": true, \"type\": \"pie\"}], \"scatter\": [{\"marker\": {\"colorbar\": {\"outlinewidth\": 0, \"ticks\": \"\"}}, \"type\": \"scatter\"}], \"scatter3d\": [{\"line\": {\"colorbar\": {\"outlinewidth\": 0, \"ticks\": \"\"}}, \"marker\": {\"colorbar\": {\"outlinewidth\": 0, \"ticks\": \"\"}}, \"type\": \"scatter3d\"}], \"scattercarpet\": [{\"marker\": {\"colorbar\": {\"outlinewidth\": 0, \"ticks\": \"\"}}, \"type\": \"scattercarpet\"}], \"scattergeo\": [{\"marker\": {\"colorbar\": {\"outlinewidth\": 0, \"ticks\": \"\"}}, \"type\": \"scattergeo\"}], \"scattergl\": [{\"marker\": {\"colorbar\": {\"outlinewidth\": 0, \"ticks\": \"\"}}, \"type\": \"scattergl\"}], \"scattermapbox\": [{\"marker\": {\"colorbar\": {\"outlinewidth\": 0, \"ticks\": \"\"}}, \"type\": \"scattermapbox\"}], \"scatterpolar\": [{\"marker\": {\"colorbar\": {\"outlinewidth\": 0, \"ticks\": \"\"}}, \"type\": \"scatterpolar\"}], \"scatterpolargl\": [{\"marker\": {\"colorbar\": {\"outlinewidth\": 0, \"ticks\": \"\"}}, \"type\": \"scatterpolargl\"}], \"scatterternary\": [{\"marker\": {\"colorbar\": {\"outlinewidth\": 0, \"ticks\": \"\"}}, \"type\": \"scatterternary\"}], \"surface\": [{\"colorbar\": {\"outlinewidth\": 0, \"ticks\": \"\"}, \"colorscale\": [[0.0, \"#0d0887\"], [0.1111111111111111, \"#46039f\"], [0.2222222222222222, \"#7201a8\"], [0.3333333333333333, \"#9c179e\"], [0.4444444444444444, \"#bd3786\"], [0.5555555555555556, \"#d8576b\"], [0.6666666666666666, \"#ed7953\"], [0.7777777777777778, \"#fb9f3a\"], [0.8888888888888888, \"#fdca26\"], [1.0, \"#f0f921\"]], \"type\": \"surface\"}], \"table\": [{\"cells\": {\"fill\": {\"color\": \"#EBF0F8\"}, \"line\": {\"color\": \"white\"}}, \"header\": {\"fill\": {\"color\": \"#C8D4E3\"}, \"line\": {\"color\": \"white\"}}, \"type\": \"table\"}]}, \"layout\": {\"annotationdefaults\": {\"arrowcolor\": \"#2a3f5f\", \"arrowhead\": 0, \"arrowwidth\": 1}, \"coloraxis\": {\"colorbar\": {\"outlinewidth\": 0, \"ticks\": \"\"}}, \"colorscale\": {\"diverging\": [[0, \"#8e0152\"], [0.1, \"#c51b7d\"], [0.2, \"#de77ae\"], [0.3, \"#f1b6da\"], [0.4, \"#fde0ef\"], [0.5, \"#f7f7f7\"], [0.6, \"#e6f5d0\"], [0.7, \"#b8e186\"], [0.8, \"#7fbc41\"], [0.9, \"#4d9221\"], [1, \"#276419\"]], \"sequential\": [[0.0, \"#0d0887\"], [0.1111111111111111, \"#46039f\"], [0.2222222222222222, \"#7201a8\"], [0.3333333333333333, \"#9c179e\"], [0.4444444444444444, \"#bd3786\"], [0.5555555555555556, \"#d8576b\"], [0.6666666666666666, \"#ed7953\"], [0.7777777777777778, \"#fb9f3a\"], [0.8888888888888888, \"#fdca26\"], [1.0, \"#f0f921\"]], \"sequentialminus\": [[0.0, \"#0d0887\"], [0.1111111111111111, \"#46039f\"], [0.2222222222222222, \"#7201a8\"], [0.3333333333333333, \"#9c179e\"], [0.4444444444444444, \"#bd3786\"], [0.5555555555555556, \"#d8576b\"], [0.6666666666666666, \"#ed7953\"], [0.7777777777777778, \"#fb9f3a\"], [0.8888888888888888, \"#fdca26\"], [1.0, \"#f0f921\"]]}, \"colorway\": [\"#636efa\", \"#EF553B\", \"#00cc96\", \"#ab63fa\", \"#FFA15A\", \"#19d3f3\", \"#FF6692\", \"#B6E880\", \"#FF97FF\", \"#FECB52\"], \"font\": {\"color\": \"#2a3f5f\"}, \"geo\": {\"bgcolor\": \"white\", \"lakecolor\": \"white\", \"landcolor\": \"#E5ECF6\", \"showlakes\": true, \"showland\": true, \"subunitcolor\": \"white\"}, \"hoverlabel\": {\"align\": \"left\"}, \"hovermode\": \"closest\", \"mapbox\": {\"style\": \"light\"}, \"paper_bgcolor\": \"white\", \"plot_bgcolor\": \"#E5ECF6\", \"polar\": {\"angularaxis\": {\"gridcolor\": \"white\", \"linecolor\": \"white\", \"ticks\": \"\"}, \"bgcolor\": \"#E5ECF6\", \"radialaxis\": {\"gridcolor\": \"white\", \"linecolor\": \"white\", \"ticks\": \"\"}}, \"scene\": {\"xaxis\": {\"backgroundcolor\": \"#E5ECF6\", \"gridcolor\": \"white\", \"gridwidth\": 2, \"linecolor\": \"white\", \"showbackground\": true, \"ticks\": \"\", \"zerolinecolor\": \"white\"}, \"yaxis\": {\"backgroundcolor\": \"#E5ECF6\", \"gridcolor\": \"white\", \"gridwidth\": 2, \"linecolor\": \"white\", \"showbackground\": true, \"ticks\": \"\", \"zerolinecolor\": \"white\"}, \"zaxis\": {\"backgroundcolor\": \"#E5ECF6\", \"gridcolor\": \"white\", \"gridwidth\": 2, \"linecolor\": \"white\", \"showbackground\": true, \"ticks\": \"\", \"zerolinecolor\": \"white\"}}, \"shapedefaults\": {\"line\": {\"color\": \"#2a3f5f\"}}, \"ternary\": {\"aaxis\": {\"gridcolor\": \"white\", \"linecolor\": \"white\", \"ticks\": \"\"}, \"baxis\": {\"gridcolor\": \"white\", \"linecolor\": \"white\", \"ticks\": \"\"}, \"bgcolor\": \"#E5ECF6\", \"caxis\": {\"gridcolor\": \"white\", \"linecolor\": \"white\", \"ticks\": \"\"}}, \"title\": {\"x\": 0.05}, \"xaxis\": {\"automargin\": true, \"gridcolor\": \"white\", \"linecolor\": \"white\", \"ticks\": \"\", \"title\": {\"standoff\": 15}, \"zerolinecolor\": \"white\", \"zerolinewidth\": 2}, \"yaxis\": {\"automargin\": true, \"gridcolor\": \"white\", \"linecolor\": \"white\", \"ticks\": \"\", \"title\": {\"standoff\": 15}, \"zerolinecolor\": \"white\", \"zerolinewidth\": 2}}}, \"title\": {\"text\": \"Missing Value counts\"}, \"xaxis\": {\"anchor\": \"y\", \"domain\": [0.0, 1.0], \"title\": {\"text\": \"Column\"}}, \"yaxis\": {\"anchor\": \"x\", \"domain\": [0.0, 1.0], \"title\": {\"text\": \"Missing Value Count\"}}},\n",
              "                        {\"responsive\": true}\n",
              "                    ).then(function(){\n",
              "                            \n",
              "var gd = document.getElementById('c91be684-8a8a-48cf-b4ba-2279d04d2198');\n",
              "var x = new MutationObserver(function (mutations, observer) {{\n",
              "        var display = window.getComputedStyle(gd).display;\n",
              "        if (!display || display === 'none') {{\n",
              "            console.log([gd, 'removed!']);\n",
              "            Plotly.purge(gd);\n",
              "            observer.disconnect();\n",
              "        }}\n",
              "}});\n",
              "\n",
              "// Listen for the removal of the full notebook cells\n",
              "var notebookContainer = gd.closest('#notebook-container');\n",
              "if (notebookContainer) {{\n",
              "    x.observe(notebookContainer, {childList: true});\n",
              "}}\n",
              "\n",
              "// Listen for the clearing of the current output cell\n",
              "var outputEl = gd.closest('.output');\n",
              "if (outputEl) {{\n",
              "    x.observe(outputEl, {childList: true});\n",
              "}}\n",
              "\n",
              "                        })\n",
              "                };\n",
              "                \n",
              "            </script>\n",
              "        </div>\n",
              "</body>\n",
              "</html>"
            ]
          },
          "metadata": {
            "tags": []
          }
        }
      ]
    },
    {
      "cell_type": "code",
      "metadata": {
        "colab": {
          "base_uri": "https://localhost:8080/",
          "height": 1000
        },
        "id": "77G5Xdy26fRG",
        "outputId": "767420a9-ab2e-4257-bab1-03ebdb49b5e2"
      },
      "source": [
        "plt.figure(figsize=(20,25))\n",
        "sns.heatmap(kdd_data.corr())\n"
      ],
      "execution_count": 267,
      "outputs": [
        {
          "output_type": "execute_result",
          "data": {
            "text/plain": [
              "<matplotlib.axes._subplots.AxesSubplot at 0x7f0b13b77350>"
            ]
          },
          "metadata": {
            "tags": []
          },
          "execution_count": 267
        },
        {
          "output_type": "display_data",
          "data": {
            "image/png": "[encoded data removed]",
            "text/plain": [
              "<Figure size 1440x1800 with 2 Axes>"
            ]
          },
          "metadata": {
            "tags": [],
            "needs_background": "light"
          }
        }
      ]
    },
    {
      "cell_type": "markdown",
      "metadata": {
        "id": "kBQeWFdmCovQ"
      },
      "source": [
        "## Removing Highly correlated columns"
      ]
    },
    {
      "cell_type": "code",
      "metadata": {
        "id": "uWmFQfAQAm_c"
      },
      "source": [
        "corr_matrix = kdd_data.corr().abs()"
      ],
      "execution_count": 192,
      "outputs": []
    },
    {
      "cell_type": "code",
      "metadata": {
        "id": "ZBF4u7_7Am3Y"
      },
      "source": [
        "upper = corr_matrix.where(np.triu(np.ones(corr_matrix.shape), k=1).astype(np.bool))"
      ],
      "execution_count": 193,
      "outputs": []
    },
    {
      "cell_type": "code",
      "metadata": {
        "id": "xkNuUyemBmVs"
      },
      "source": [
        "to_drop = [column for column in upper.columns if any(upper[column] > 0.85)]"
      ],
      "execution_count": 194,
      "outputs": []
    },
    {
      "cell_type": "code",
      "metadata": {
        "colab": {
          "base_uri": "https://localhost:8080/"
        },
        "id": "3yiSE4G9CEOE",
        "outputId": "f429d40b-345c-4031-c1a6-1fa2230658ac"
      },
      "source": [
        "to_drop"
      ],
      "execution_count": 195,
      "outputs": [
        {
          "output_type": "execute_result",
          "data": {
            "text/plain": [
              "['Var22', 'Var25', 'Var123', 'Var160']"
            ]
          },
          "metadata": {
            "tags": []
          },
          "execution_count": 195
        }
      ]
    },
    {
      "cell_type": "code",
      "metadata": {
        "id": "fOcX5qSdCszU"
      },
      "source": [
        "kdd_data.drop(to_drop, axis=1, inplace=True)"
      ],
      "execution_count": 196,
      "outputs": []
    },
    {
      "cell_type": "markdown",
      "metadata": {
        "id": "K6wCfkq0FaYd"
      },
      "source": [
        "## Handling Categorical Null Variables"
      ]
    },
    {
      "cell_type": "code",
      "metadata": {
        "id": "iDEfENwqC3yP"
      },
      "source": [
        "cols=[col for col in kdd_data.columns if kdd_data[col].dtype=='O']"
      ],
      "execution_count": 197,
      "outputs": []
    },
    {
      "cell_type": "code",
      "metadata": {
        "colab": {
          "base_uri": "https://localhost:8080/"
        },
        "id": "8uzzBVvKFjdq",
        "outputId": "ba55af9e-4a61-4850-bf80-905bdaa44ea9"
      },
      "source": [
        "kdd_data[cols].isna().sum()"
      ],
      "execution_count": 198,
      "outputs": [
        {
          "output_type": "execute_result",
          "data": {
            "text/plain": [
              "Var192     369\n",
              "Var193       0\n",
              "Var195       0\n",
              "Var196       0\n",
              "Var197     143\n",
              "Var198       0\n",
              "Var199       4\n",
              "Var202       1\n",
              "Var203     143\n",
              "Var204       0\n",
              "Var205    1934\n",
              "Var206    5529\n",
              "Var207       0\n",
              "Var208     143\n",
              "Var210       0\n",
              "Var211       0\n",
              "Var212       0\n",
              "Var216       0\n",
              "Var217     703\n",
              "Var218     703\n",
              "Var219    5211\n",
              "Var220       0\n",
              "Var221       0\n",
              "Var222       0\n",
              "Var223    5211\n",
              "Var226       0\n",
              "Var227       0\n",
              "Var228       0\n",
              "dtype: int64"
            ]
          },
          "metadata": {
            "tags": []
          },
          "execution_count": 198
        }
      ]
    },
    {
      "cell_type": "code",
      "metadata": {
        "id": "yARNE854Fynl"
      },
      "source": [
        "cols_value_counts = [(i, kdd_data[i].nunique()) for i in cols] #Checking the number of unique values in each categorical variable"
      ],
      "execution_count": 199,
      "outputs": []
    },
    {
      "cell_type": "code",
      "metadata": {
        "colab": {
          "base_uri": "https://localhost:8080/"
        },
        "id": "BjePaSy-GXQZ",
        "outputId": "271e3eb3-735e-4029-c82d-b1eb2c106abd"
      },
      "source": [
        "cols_value_counts"
      ],
      "execution_count": 200,
      "outputs": [
        {
          "output_type": "execute_result",
          "data": {
            "text/plain": [
              "[('Var192', 361),\n",
              " ('Var193', 51),\n",
              " ('Var195', 23),\n",
              " ('Var196', 4),\n",
              " ('Var197', 225),\n",
              " ('Var198', 4291),\n",
              " ('Var199', 5073),\n",
              " ('Var202', 5713),\n",
              " ('Var203', 5),\n",
              " ('Var204', 100),\n",
              " ('Var205', 3),\n",
              " ('Var206', 21),\n",
              " ('Var207', 14),\n",
              " ('Var208', 2),\n",
              " ('Var210', 6),\n",
              " ('Var211', 2),\n",
              " ('Var212', 81),\n",
              " ('Var216', 2016),\n",
              " ('Var217', 13990),\n",
              " ('Var218', 2),\n",
              " ('Var219', 22),\n",
              " ('Var220', 4291),\n",
              " ('Var221', 7),\n",
              " ('Var222', 4291),\n",
              " ('Var223', 4),\n",
              " ('Var226', 23),\n",
              " ('Var227', 7),\n",
              " ('Var228', 30)]"
            ]
          },
          "metadata": {
            "tags": []
          },
          "execution_count": 200
        }
      ]
    },
    {
      "cell_type": "code",
      "metadata": {
        "id": "FKXmdkU0Gyxa"
      },
      "source": [
        "cols_new = [i for i in cols if kdd_data[i].nunique() < 100] #Selecting only those categorical variables with less than "
      ],
      "execution_count": 201,
      "outputs": []
    },
    {
      "cell_type": "code",
      "metadata": {
        "colab": {
          "base_uri": "https://localhost:8080/"
        },
        "id": "r58ixiMuG3iX",
        "outputId": "d0889120-17c2-4f70-c80f-c0ba3aeac758"
      },
      "source": [
        "kdd_data[cols_new].isna().sum() #Null values in these columns"
      ],
      "execution_count": 202,
      "outputs": [
        {
          "output_type": "execute_result",
          "data": {
            "text/plain": [
              "Var193       0\n",
              "Var195       0\n",
              "Var196       0\n",
              "Var203     143\n",
              "Var205    1934\n",
              "Var206    5529\n",
              "Var207       0\n",
              "Var208     143\n",
              "Var210       0\n",
              "Var211       0\n",
              "Var212       0\n",
              "Var218     703\n",
              "Var219    5211\n",
              "Var221       0\n",
              "Var223    5211\n",
              "Var226       0\n",
              "Var227       0\n",
              "Var228       0\n",
              "dtype: int64"
            ]
          },
          "metadata": {
            "tags": []
          },
          "execution_count": 202
        }
      ]
    },
    {
      "cell_type": "code",
      "metadata": {
        "colab": {
          "base_uri": "https://localhost:8080/"
        },
        "id": "I_xZMtmmIEIN",
        "outputId": "d0ef8a5f-bfb8-437c-f4df-ef0b010d8cd1"
      },
      "source": [
        "kdd_data['Var203'].value_counts() #Distribution of each column"
      ],
      "execution_count": 203,
      "outputs": [
        {
          "output_type": "execute_result",
          "data": {
            "text/plain": [
              "9_Y1    45233\n",
              "HLqf     3168\n",
              "F3hy     1451\n",
              "dgxZ        4\n",
              "pybr        1\n",
              "Name: Var203, dtype: int64"
            ]
          },
          "metadata": {
            "tags": []
          },
          "execution_count": 203
        }
      ]
    },
    {
      "cell_type": "code",
      "metadata": {
        "colab": {
          "base_uri": "https://localhost:8080/"
        },
        "id": "SZzg6iqyJLY-",
        "outputId": "8eae4ec2-ca37-4025-dc28-6ea9bf69609b"
      },
      "source": [
        "kdd_data['Var208'].value_counts() #Distribution of each column"
      ],
      "execution_count": 204,
      "outputs": [
        {
          "output_type": "execute_result",
          "data": {
            "text/plain": [
              "kIsH    46022\n",
              "sBgB     3835\n",
              "Name: Var208, dtype: int64"
            ]
          },
          "metadata": {
            "tags": []
          },
          "execution_count": 204
        }
      ]
    },
    {
      "cell_type": "code",
      "metadata": {
        "colab": {
          "base_uri": "https://localhost:8080/"
        },
        "id": "dwH-YdJyJUSN",
        "outputId": "92591934-8583-478c-f040-e3a0746cc2e8"
      },
      "source": [
        "kdd_data['Var219'].value_counts() #Distribution of each column"
      ],
      "execution_count": 205,
      "outputs": [
        {
          "output_type": "execute_result",
          "data": {
            "text/plain": [
              "FzaX          40304\n",
              "AU8pNoi        1109\n",
              "qxDb           1088\n",
              "OFWH            834\n",
              "AU8_WTd         552\n",
              "wwPEXoilkr      448\n",
              "Lmli            264\n",
              "tdJW_Pm          78\n",
              "FqMWi1g          33\n",
              "ylgWTXl          21\n",
              "AU8ltHK          10\n",
              "AU8OvAe           9\n",
              "FQHxeR8           9\n",
              "JdAM              9\n",
              "AU8KzzF           5\n",
              "49W0rUY           4\n",
              "lkwAXjv           3\n",
              "AT1N              2\n",
              "49W9HeL           2\n",
              "6krWwfF           2\n",
              "HEoH              2\n",
              "kgEg              1\n",
              "Name: Var219, dtype: int64"
            ]
          },
          "metadata": {
            "tags": []
          },
          "execution_count": 205
        }
      ]
    },
    {
      "cell_type": "code",
      "metadata": {
        "colab": {
          "base_uri": "https://localhost:8080/"
        },
        "id": "L12ly2dZJhVZ",
        "outputId": "5929a51f-0d0f-4f81-c627-990869d09547"
      },
      "source": [
        "kdd_data['Var223'].value_counts() #Distribution of each column"
      ],
      "execution_count": 206,
      "outputs": [
        {
          "output_type": "execute_result",
          "data": {
            "text/plain": [
              "LM8l689qOp    36608\n",
              "jySVZNlOJy     5995\n",
              "M_8D           2022\n",
              "bCPvVye         164\n",
              "Name: Var223, dtype: int64"
            ]
          },
          "metadata": {
            "tags": []
          },
          "execution_count": 206
        }
      ]
    },
    {
      "cell_type": "code",
      "metadata": {
        "colab": {
          "base_uri": "https://localhost:8080/"
        },
        "id": "CO-LL_YYKVXF",
        "outputId": "feb4934e-c017-4f83-cf8d-35b5ac989ed6"
      },
      "source": [
        "kdd_data['Var223'] #Distribution of each column"
      ],
      "execution_count": 207,
      "outputs": [
        {
          "output_type": "execute_result",
          "data": {
            "text/plain": [
              "0        jySVZNlOJy\n",
              "1        LM8l689qOp\n",
              "2        jySVZNlOJy\n",
              "3        LM8l689qOp\n",
              "4        LM8l689qOp\n",
              "            ...    \n",
              "49995    LM8l689qOp\n",
              "49996    LM8l689qOp\n",
              "49997    LM8l689qOp\n",
              "49998    LM8l689qOp\n",
              "49999    LM8l689qOp\n",
              "Name: Var223, Length: 50000, dtype: object"
            ]
          },
          "metadata": {
            "tags": []
          },
          "execution_count": 207
        }
      ]
    },
    {
      "cell_type": "code",
      "metadata": {
        "id": "2S0NAzApK_p_"
      },
      "source": [
        "#Using max frequency handling for the following columns \n",
        "kdd_data[['Var208', 'Var219', 'Var203', 'Var223']] = kdd_data[['Var208', 'Var219', 'Var203', 'Var223']].apply(lambda x:x.fillna(x.value_counts().index[0]))  "
      ],
      "execution_count": 208,
      "outputs": []
    },
    {
      "cell_type": "code",
      "metadata": {
        "id": "b0FL6qqILsnP"
      },
      "source": [
        "#Using forward fill for these columns\n",
        "kdd_data[['Var205', 'Var206', 'Var218']]=kdd_data[['Var205', 'Var206', 'Var218']].ffill(axis=0)"
      ],
      "execution_count": 209,
      "outputs": []
    },
    {
      "cell_type": "code",
      "metadata": {
        "colab": {
          "base_uri": "https://localhost:8080/"
        },
        "id": "P3nnDMM3LRPK",
        "outputId": "2e827a36-143d-49f0-9686-4c635ea6bebd"
      },
      "source": [
        "kdd_data[cols_new].isna().sum()"
      ],
      "execution_count": 210,
      "outputs": [
        {
          "output_type": "execute_result",
          "data": {
            "text/plain": [
              "Var193    0\n",
              "Var195    0\n",
              "Var196    0\n",
              "Var203    0\n",
              "Var205    0\n",
              "Var206    0\n",
              "Var207    0\n",
              "Var208    0\n",
              "Var210    0\n",
              "Var211    0\n",
              "Var212    0\n",
              "Var218    0\n",
              "Var219    0\n",
              "Var221    0\n",
              "Var223    0\n",
              "Var226    0\n",
              "Var227    0\n",
              "Var228    0\n",
              "dtype: int64"
            ]
          },
          "metadata": {
            "tags": []
          },
          "execution_count": 210
        }
      ]
    },
    {
      "cell_type": "markdown",
      "metadata": {
        "id": "TtdjO6E2MQO6"
      },
      "source": [
        "# Handling Numerical NA values"
      ]
    },
    {
      "cell_type": "code",
      "metadata": {
        "id": "4aGLk40HMTIQ"
      },
      "source": [
        "num_cols=[col for col in kdd_data.columns if kdd_data[col].dtype=='float64']"
      ],
      "execution_count": 211,
      "outputs": []
    },
    {
      "cell_type": "code",
      "metadata": {
        "id": "9Q3uCYVX0d6z"
      },
      "source": [
        "cat_cols=[col for col in kdd_data.columns if kdd_data[col].dtype=='O']"
      ],
      "execution_count": 235,
      "outputs": []
    },
    {
      "cell_type": "code",
      "metadata": {
        "id": "pLo_LaFlPBcS"
      },
      "source": [
        "kdd_data.drop(['Var192', 'Var197', 'Var199', 'Var202', 'Var217'], axis = 1, inplace = True)"
      ],
      "execution_count": 212,
      "outputs": []
    },
    {
      "cell_type": "code",
      "metadata": {
        "id": "8zHSsvUOOJGi"
      },
      "source": [
        "kdd_data[num_cols] = kdd_data[num_cols].apply(lambda x:x.fillna(x.mean())) #FIlling values with NA values"
      ],
      "execution_count": 213,
      "outputs": []
    },
    {
      "cell_type": "markdown",
      "metadata": {
        "id": "ieBJml3AxkC_"
      },
      "source": [
        "# Handling categorical variables for processing"
      ]
    },
    {
      "cell_type": "code",
      "metadata": {
        "id": "1CUdNSEzxvv6"
      },
      "source": [
        "x = kdd_data.drop(['appetency_labels', 'churn_labels', 'upselling_labels'], axis =1)\n",
        "y_churn = kdd_data['churn_labels']\n",
        "x_train, x_val, y_train_churn, y_val_churn = train_test_split(x, y_churn, test_size=0.2, random_state=21)"
      ],
      "execution_count": 241,
      "outputs": []
    },
    {
      "cell_type": "code",
      "metadata": {
        "id": "5j3jW1rt0W25"
      },
      "source": [
        "def process_data(x_train, x_val):\n",
        "  le=LabelEncoder()\n",
        "  x_train['Var193']=le.fit_transform(x_train['Var193'])\n",
        "  x_val['Var193'] = x_val['Var193'].map(lambda s: 'other' if s not in le.classes_ else s)\n",
        "  le_classes = le.classes_.tolist()\n",
        "  bisect.insort_left(le_classes, 'other')\n",
        "  le.classes_ = le_classes\n",
        "      \n",
        "  x_val['Var193']=le.transform(x_val['Var193'])\n",
        "      \n",
        "  ohe=OneHotEncoder(handle_unknown='ignore')\n",
        "  X_tr = ohe.fit_transform(x_train['Var193'].values.reshape(-1,1))\n",
        "  X_te = ohe.transform(x_val['Var193'].values.reshape(-1,1))\n",
        "  flag=0    \n",
        "  for i in cat_cols:\n",
        "    \n",
        "    if (flag!=0):\n",
        "\n",
        "          le = LabelEncoder()\n",
        "          x_train[i]=le.fit_transform(x_train[i])\n",
        "          x_val[i] = x_val[i].map(lambda s: 'other' if s not in le.classes_ else s)\n",
        "          le_classes = le.classes_.tolist()\n",
        "          bisect.insort_left(le_classes, 'other')\n",
        "          le.classes_ = le_classes\n",
        "          x_val[i]=le.transform(x_val[i])\n",
        "          ohe=OneHotEncoder(handle_unknown='ignore')\n",
        "          print(i)\n",
        "          X_tri = ohe.fit_transform(x_train[i].values.reshape(-1,1))\n",
        "          X_tei = ohe.transform(x_val[i].values.reshape(-1,1))\n",
        "          X_tr=hstack((X_tr,X_tri))\n",
        "          X_te=hstack((X_te,X_tei))\n",
        "\n",
        "    flag=1"
      ],
      "execution_count": 280,
      "outputs": []
    },
    {
      "cell_type": "markdown",
      "metadata": {
        "id": "3I9VsQ7SlGuK"
      },
      "source": [
        "# Base Models for churn using Logistic regression"
      ]
    },
    {
      "cell_type": "code",
      "metadata": {
        "id": "cNQORtYQpIX3"
      },
      "source": [
        "# your code here \n",
        "s1 = x_train[y_train_churn==0]\n",
        "s2 = x_train[y_train_churn==1]\n",
        "m1 = s1.mean()\n",
        "m2 = s2.mean()\n",
        "std1 = s1.std()\n",
        "std2 = s2.std()\n",
        "n1 = len(s1)\n",
        "n2 = len(s2)"
      ],
      "execution_count": 243,
      "outputs": []
    },
    {
      "cell_type": "code",
      "metadata": {
        "id": "cqdIdkYypY3o"
      },
      "source": [
        "t_stats = np.abs(m1-m2)/np.sqrt((std1**2/n1) + (std2**2/n2))"
      ],
      "execution_count": 244,
      "outputs": []
    },
    {
      "cell_type": "code",
      "metadata": {
        "id": "olZ518rupd_O"
      },
      "source": [
        "t_stats =  abs(t_stats).sort_values(ascending = False)"
      ],
      "execution_count": 245,
      "outputs": []
    },
    {
      "cell_type": "code",
      "metadata": {
        "id": "N9tbfk9ApnBs"
      },
      "source": [
        "top15 = t_stats.index[:15]"
      ],
      "execution_count": 246,
      "outputs": []
    },
    {
      "cell_type": "code",
      "metadata": {
        "colab": {
          "base_uri": "https://localhost:8080/"
        },
        "id": "rZtF4mk1pnbv",
        "outputId": "93fa7733-8952-48f7-a97c-b3cf4d2da5db"
      },
      "source": [
        "print(\"The top 15 best predictors are\", list(top15), sep = \"\\t\")"
      ],
      "execution_count": 247,
      "outputs": [
        {
          "output_type": "stream",
          "text": [
            "The top 15 best predictors are\t['Var73', 'Var7', 'Var144', 'Var113', 'Var207', 'Var126', 'Var13', 'Var74', 'Var193', 'Var140', 'Var65', 'Var218', 'Var205', 'Var81', 'Var211']\n"
          ],
          "name": "stdout"
        }
      ]
    },
    {
      "cell_type": "code",
      "metadata": {
        "id": "F-Lcm0Qopv9M"
      },
      "source": [
        "x_train_new = x_train[list(top15)]\n",
        "x_val_new = x_val[list(top15)]"
      ],
      "execution_count": 248,
      "outputs": []
    },
    {
      "cell_type": "code",
      "metadata": {
        "colab": {
          "base_uri": "https://localhost:8080/"
        },
        "id": "fjMYeZA_qKEG",
        "outputId": "c6647ff2-351f-466f-b63a-66f0c94fbd4f"
      },
      "source": [
        "lreg_churn = LogisticRegression(random_state = 21)\n",
        "lreg_churn.fit(x_train_new,y_train_churn)"
      ],
      "execution_count": 250,
      "outputs": [
        {
          "output_type": "stream",
          "text": [
            "/usr/local/lib/python3.7/dist-packages/sklearn/linear_model/_logistic.py:940: ConvergenceWarning:\n",
            "\n",
            "lbfgs failed to converge (status=1):\n",
            "STOP: TOTAL NO. of ITERATIONS REACHED LIMIT.\n",
            "\n",
            "Increase the number of iterations (max_iter) or scale the data as shown in:\n",
            "    https://scikit-learn.org/stable/modules/preprocessing.html\n",
            "Please also refer to the documentation for alternative solver options:\n",
            "    https://scikit-learn.org/stable/modules/linear_model.html#logistic-regression\n",
            "\n"
          ],
          "name": "stderr"
        },
        {
          "output_type": "execute_result",
          "data": {
            "text/plain": [
              "LogisticRegression(C=1.0, class_weight=None, dual=False, fit_intercept=True,\n",
              "                   intercept_scaling=1, l1_ratio=None, max_iter=100,\n",
              "                   multi_class='auto', n_jobs=None, penalty='l2',\n",
              "                   random_state=21, solver='lbfgs', tol=0.0001, verbose=0,\n",
              "                   warm_start=False)"
            ]
          },
          "metadata": {
            "tags": []
          },
          "execution_count": 250
        }
      ]
    },
    {
      "cell_type": "code",
      "metadata": {
        "id": "olV1UgPMqTL1"
      },
      "source": [
        "y_train_pred_churn = lreg_churn.predict(x_train_new)\n",
        "y_val_pred_churn = lreg_churn.predict(x_val_new)"
      ],
      "execution_count": 251,
      "outputs": []
    },
    {
      "cell_type": "code",
      "metadata": {
        "id": "JAOOKrEdFnOI"
      },
      "source": [
        "lreg_churn_probs = lreg_churn.predict_proba(x_val_new)\n",
        "lreg_churn_probs = lreg_churn_probs[:, 1]"
      ],
      "execution_count": 262,
      "outputs": []
    },
    {
      "cell_type": "code",
      "metadata": {
        "id": "Ng88XKBlFwCd"
      },
      "source": [
        "lr_auc_churn = roc_auc_score(y_val_churn, lreg_churn_probs)"
      ],
      "execution_count": 263,
      "outputs": []
    },
    {
      "cell_type": "code",
      "metadata": {
        "colab": {
          "base_uri": "https://localhost:8080/"
        },
        "id": "7xesZ2wtF0TU",
        "outputId": "f23e04a4-8485-4406-80da-7bc6d97d5529"
      },
      "source": [
        "print('Logistic: ROC AUC=%.3f' % (lr_auc_churn))"
      ],
      "execution_count": 264,
      "outputs": [
        {
          "output_type": "stream",
          "text": [
            "Logistic: ROC AUC=0.592\n"
          ],
          "name": "stdout"
        }
      ]
    },
    {
      "cell_type": "code",
      "metadata": {
        "colab": {
          "base_uri": "https://localhost:8080/"
        },
        "id": "ARfcr4zDqWQl",
        "outputId": "a056eabb-9a1c-4c1f-8287-2991db3d729b"
      },
      "source": [
        "train_accuracy = accuracy_score(y_train_churn, y_train_pred_churn)\n",
        "validation_accuracy = accuracy_score(y_val_churn, y_val_pred_churn)\n",
        "print(\"Train Accuracy\", np.round(train_accuracy,3))\n",
        "print(\"Validation Accuracy\", np.round(validation_accuracy,3))"
      ],
      "execution_count": 252,
      "outputs": [
        {
          "output_type": "stream",
          "text": [
            "Train Accuracy 0.925\n",
            "Validation Accuracy 0.929\n"
          ],
          "name": "stdout"
        }
      ]
    },
    {
      "cell_type": "code",
      "metadata": {
        "id": "HI_OXN3lqhTt"
      },
      "source": [
        "conf_matrix = confusion_matrix(y_val_churn, y_val_pred_churn)"
      ],
      "execution_count": 253,
      "outputs": []
    },
    {
      "cell_type": "code",
      "metadata": {
        "colab": {
          "base_uri": "https://localhost:8080/",
          "height": 295
        },
        "id": "M4NGHK9Br5z5",
        "outputId": "0102aa4c-fdb2-4010-e641-600e2e1e4af6"
      },
      "source": [
        "plt.figure(figsize=(4, 4))\n",
        "sns.heatmap(conf_matrix,  annot=True,fmt=\"d\")\n",
        "plt.title(\"Confusion matrix\")\n",
        "plt.ylabel('True class')\n",
        "plt.xlabel('Predicted class')\n",
        "plt.show()"
      ],
      "execution_count": 254,
      "outputs": [
        {
          "output_type": "display_data",
          "data": {
            "image/png": "[encoded data removed]",
            "text/plain": [
              "<Figure size 288x288 with 2 Axes>"
            ]
          },
          "metadata": {
            "tags": [],
            "needs_background": "light"
          }
        }
      ]
    },
    {
      "cell_type": "code",
      "metadata": {
        "id": "sWN8YvBvr9yB"
      },
      "source": [
        "tn, fp, fn, tp = confusion_matrix(y_val_churn, y_val_pred_churn).ravel()"
      ],
      "execution_count": 255,
      "outputs": []
    },
    {
      "cell_type": "code",
      "metadata": {
        "id": "vsPQxhxYsL5B"
      },
      "source": [
        "recall_churn = tp/(tp + fn)"
      ],
      "execution_count": 256,
      "outputs": []
    },
    {
      "cell_type": "code",
      "metadata": {
        "id": "TdE7KevIsQfj"
      },
      "source": [
        "FNR_value = 1 - recall_churn"
      ],
      "execution_count": 257,
      "outputs": []
    },
    {
      "cell_type": "code",
      "metadata": {
        "colab": {
          "base_uri": "https://localhost:8080/"
        },
        "id": "AqUE3OR9sVk8",
        "outputId": "0c6fdbd7-3baf-4c9a-8cd9-d298e251327e"
      },
      "source": [
        "FNR_value"
      ],
      "execution_count": 258,
      "outputs": [
        {
          "output_type": "execute_result",
          "data": {
            "text/plain": [
              "0.9859154929577465"
            ]
          },
          "metadata": {
            "tags": []
          },
          "execution_count": 258
        }
      ]
    },
    {
      "cell_type": "code",
      "metadata": {
        "colab": {
          "base_uri": "https://localhost:8080/"
        },
        "id": "nZ7hcZUCsaDH",
        "outputId": "0f824ba1-00ac-463c-d9ad-2b40bf9caa08"
      },
      "source": [
        "recall_churn"
      ],
      "execution_count": 259,
      "outputs": [
        {
          "output_type": "execute_result",
          "data": {
            "text/plain": [
              "0.014084507042253521"
            ]
          },
          "metadata": {
            "tags": []
          },
          "execution_count": 259
        }
      ]
    },
    {
      "cell_type": "code",
      "metadata": {
        "colab": {
          "base_uri": "https://localhost:8080/"
        },
        "id": "0zcX3rTaDetT",
        "outputId": "810ae0c2-5260-4c4e-ab47-62c41d2151c5"
      },
      "source": [
        "roc_auc_score(y_train_churn, y_train_pred_churn)"
      ],
      "execution_count": 260,
      "outputs": [
        {
          "output_type": "execute_result",
          "data": {
            "text/plain": [
              "0.501195370675933"
            ]
          },
          "metadata": {
            "tags": []
          },
          "execution_count": 260
        }
      ]
    },
    {
      "cell_type": "code",
      "metadata": {
        "colab": {
          "base_uri": "https://localhost:8080/"
        },
        "id": "Js9u9klqI_o_",
        "outputId": "79d52818-c7b0-4d70-98c2-33e841b3089b"
      },
      "source": [
        "f1_churn = f1_score(y_train_churn, y_train_pred_churn)\n",
        "print(\"f1 score is \", np.round(f1_churn,3))"
      ],
      "execution_count": 270,
      "outputs": [
        {
          "output_type": "stream",
          "text": [
            "f1 score is  0.007\n"
          ],
          "name": "stdout"
        }
      ]
    },
    {
      "cell_type": "markdown",
      "metadata": {
        "id": "dw3MbzTLJUQ-"
      },
      "source": [
        "# Base Model for Upselling"
      ]
    },
    {
      "cell_type": "code",
      "metadata": {
        "id": "fzepjEtaJWyK"
      },
      "source": [
        "x = kdd_data.drop(['appetency_labels', 'churn_labels', 'upselling_labels'], axis =1)\n",
        "y_ups = kdd_data['upselling_labels']\n",
        "x_train, x_val, y_train_ups, y_val_ups = train_test_split(x, y_ups, test_size=0.2, random_state=21)"
      ],
      "execution_count": 272,
      "outputs": []
    },
    {
      "cell_type": "code",
      "metadata": {
        "id": "otxLSY3WK1HS"
      },
      "source": [
        "process_data(x_train, x_val)"
      ],
      "execution_count": null,
      "outputs": []
    },
    {
      "cell_type": "code",
      "metadata": {
        "id": "LUfN-LnYJ80L"
      },
      "source": [
        "# your code here \n",
        "s1 = x_train[y_train_ups==0]\n",
        "s2 = x_train[y_train_ups==1]\n",
        "m1 = s1.mean()\n",
        "m2 = s2.mean()\n",
        "std1 = s1.std()\n",
        "std2 = s2.std()\n",
        "n1 = len(s1)\n",
        "n2 = len(s2)"
      ],
      "execution_count": 282,
      "outputs": []
    },
    {
      "cell_type": "code",
      "metadata": {
        "id": "CPtBgmSNKAh_"
      },
      "source": [
        "t_stats = np.abs(m1-m2)/np.sqrt((std1**2/n1) + (std2**2/n2))\n",
        "t_stats =  abs(t_stats).sort_values(ascending = False)"
      ],
      "execution_count": 283,
      "outputs": []
    },
    {
      "cell_type": "code",
      "metadata": {
        "id": "JrE1GOw9KDCn"
      },
      "source": [
        "best_pred = t_stats.index[0]\n",
        "top15 = t_stats.index[:15]"
      ],
      "execution_count": 284,
      "outputs": []
    },
    {
      "cell_type": "code",
      "metadata": {
        "colab": {
          "base_uri": "https://localhost:8080/"
        },
        "id": "zySYxrt1KGdN",
        "outputId": "795388ca-67bf-409b-e2f1-774b3676a03a"
      },
      "source": [
        "print(\"The top 10 best predictors are\", list(top10), sep = \"\\t\")"
      ],
      "execution_count": 285,
      "outputs": [
        {
          "output_type": "stream",
          "text": [
            "The top 10 best predictors are\t['Var73', 'Var212_NhsEn4L', 'Var7', 'Var193_RO12', 'Var228_F2FyR07IdsN7I', 'Var144', 'Var113', 'Var205_sJzTlal', 'Var126', 'Var13']\n"
          ],
          "name": "stdout"
        }
      ]
    },
    {
      "cell_type": "code",
      "metadata": {
        "id": "983mGidAKK7M"
      },
      "source": [
        "x_train_new = x_train[list(top15)]\n",
        "x_val_new = x_val[list(top15)]"
      ],
      "execution_count": 287,
      "outputs": []
    },
    {
      "cell_type": "code",
      "metadata": {
        "colab": {
          "base_uri": "https://localhost:8080/"
        },
        "id": "F6hMInvDLHpQ",
        "outputId": "e9af3ea2-808a-45b6-ffde-bc07a0aeaf88"
      },
      "source": [
        "lreg_ups = LogisticRegression(random_state = 21)\n",
        "lreg_ups.fit(x_train_new,y_train_ups)"
      ],
      "execution_count": 288,
      "outputs": [
        {
          "output_type": "execute_result",
          "data": {
            "text/plain": [
              "LogisticRegression(C=1.0, class_weight=None, dual=False, fit_intercept=True,\n",
              "                   intercept_scaling=1, l1_ratio=None, max_iter=100,\n",
              "                   multi_class='auto', n_jobs=None, penalty='l2',\n",
              "                   random_state=21, solver='lbfgs', tol=0.0001, verbose=0,\n",
              "                   warm_start=False)"
            ]
          },
          "metadata": {
            "tags": []
          },
          "execution_count": 288
        }
      ]
    },
    {
      "cell_type": "code",
      "metadata": {
        "id": "gs47iYJeLLXB"
      },
      "source": [
        "y_train_pred_ups = lreg_ups.predict(x_train_new)\n",
        "y_val_pred_ups = lreg_ups.predict(x_val_new)"
      ],
      "execution_count": 289,
      "outputs": []
    },
    {
      "cell_type": "code",
      "metadata": {
        "colab": {
          "base_uri": "https://localhost:8080/"
        },
        "id": "wWlEX-cLLNRN",
        "outputId": "db2e1f9e-e517-4d15-abfc-418ea5fb3d2e"
      },
      "source": [
        "train_accuracy = accuracy_score(y_train_ups, y_train_pred_ups)\n",
        "validation_accuracy = accuracy_score(y_val_ups, y_val_pred_ups)\n",
        "print(\"Train Accuracy\", np.round(train_accuracy,3))\n",
        "print(\"Validation Accuracy\", np.round(validation_accuracy,3))"
      ],
      "execution_count": 290,
      "outputs": [
        {
          "output_type": "stream",
          "text": [
            "Train Accuracy 0.926\n",
            "Validation Accuracy 0.927\n"
          ],
          "name": "stdout"
        }
      ]
    },
    {
      "cell_type": "code",
      "metadata": {
        "colab": {
          "base_uri": "https://localhost:8080/",
          "height": 295
        },
        "id": "2vj9xpidLPN5",
        "outputId": "9a7d641d-27e0-48ba-b444-63bc0dea1b8f"
      },
      "source": [
        "conf_matrix = confusion_matrix(y_val_ups, y_val_pred_ups)\n",
        "plt.figure(figsize=(4, 4))\n",
        "sns.heatmap(conf_matrix,  annot=True,fmt=\"d\")\n",
        "plt.title(\"Confusion matrix\")\n",
        "plt.ylabel('True class')\n",
        "plt.xlabel('Predicted class')\n",
        "plt.show()"
      ],
      "execution_count": 291,
      "outputs": [
        {
          "output_type": "display_data",
          "data": {
            "image/png": "[encoded data removed]",
            "text/plain": [
              "<Figure size 288x288 with 2 Axes>"
            ]
          },
          "metadata": {
            "tags": [],
            "needs_background": "light"
          }
        }
      ]
    },
    {
      "cell_type": "code",
      "metadata": {
        "id": "63u_hzmqLRrZ"
      },
      "source": [
        "# generate a no skill prediction (majority class)\n",
        "ns_ups_probs = [0] * len(x_val_new)\n",
        "\n",
        "# predict probabilities\n",
        "lreg_ups_probs = lreg_ups.predict_proba(x_val_new)\n",
        "# keep probabilities for the positive outcome only\n",
        "lreg_ups_probs = lreg_ups_probs[:, 1]\n",
        "# calculate scores\n",
        "ns_auc_ups = roc_auc_score(y_val_ups, ns_ups_probs)\n",
        "lr_auc_ups = roc_auc_score(y_val_ups, lreg_ups_probs)"
      ],
      "execution_count": 292,
      "outputs": []
    },
    {
      "cell_type": "code",
      "metadata": {
        "colab": {
          "base_uri": "https://localhost:8080/"
        },
        "id": "ncYZC5-pLVc4",
        "outputId": "316027ac-9561-44b9-a6ff-58c4a4cc3d9f"
      },
      "source": [
        "print('No Skill: ROC AUC=%.3f' % (ns_auc_ups))\n",
        "print('Logistic: ROC AUC=%.3f' % (lr_auc_ups))"
      ],
      "execution_count": 293,
      "outputs": [
        {
          "output_type": "stream",
          "text": [
            "No Skill: ROC AUC=0.500\n",
            "Logistic: ROC AUC=0.668\n"
          ],
          "name": "stdout"
        }
      ]
    },
    {
      "cell_type": "code",
      "metadata": {
        "colab": {
          "base_uri": "https://localhost:8080/"
        },
        "id": "YFEuyXa6Lb1n",
        "outputId": "87b4b7af-a55f-4c50-ea35-d0d1fbf7a941"
      },
      "source": [
        "f1_ups = f1_score(y_train_ups, y_train_pred_ups)\n",
        "print(\"f1 score is \", np.round(f1_ups,3))"
      ],
      "execution_count": 294,
      "outputs": [
        {
          "output_type": "stream",
          "text": [
            "f1 score is  0.0\n"
          ],
          "name": "stdout"
        }
      ]
    },
    {
      "cell_type": "markdown",
      "metadata": {
        "id": "w6Lal7IvME3e"
      },
      "source": [
        "# Base Model appentency"
      ]
    },
    {
      "cell_type": "code",
      "metadata": {
        "id": "nDkCMBiKMGZ6"
      },
      "source": [
        "x = kdd_data.drop(['appetency_labels', 'churn_labels', 'upselling_labels'], axis =1)\n",
        "y_app = kdd_data['upselling_labels']\n",
        "x_train, x_val, y_train_app, y_val_app = train_test_split(x, y_app, test_size=0.2, random_state=21)"
      ],
      "execution_count": 295,
      "outputs": []
    },
    {
      "cell_type": "code",
      "metadata": {
        "id": "cQKYZInvMN5h"
      },
      "source": [
        "# your code here \n",
        "s1 = x_train[y_train_app==0]\n",
        "s2 = x_train[y_train_app==1]\n",
        "m1 = s1.mean()\n",
        "m2 = s2.mean()\n",
        "std1 = s1.std()\n",
        "std2 = s2.std()\n",
        "n1 = len(s1)\n",
        "n2 = len(s2)"
      ],
      "execution_count": 296,
      "outputs": []
    },
    {
      "cell_type": "code",
      "metadata": {
        "id": "2X1tD6zYMQES"
      },
      "source": [
        "t_stats = np.abs(m1-m2)/np.sqrt((std1**2/n1) + (std2**2/n2))\n",
        "t_stats =  abs(t_stats).sort_values(ascending = False)"
      ],
      "execution_count": 297,
      "outputs": []
    },
    {
      "cell_type": "code",
      "metadata": {
        "id": "XjD-eFmvMSQ6"
      },
      "source": [
        "best_pred = t_stats.index[0]\n",
        "top15 = t_stats.index[:15]"
      ],
      "execution_count": 298,
      "outputs": []
    },
    {
      "cell_type": "code",
      "metadata": {
        "colab": {
          "base_uri": "https://localhost:8080/"
        },
        "id": "ro4bmICvMV4l",
        "outputId": "9ec584af-2447-443d-d515-f265dcbf458d"
      },
      "source": [
        "print(\"The top 10 best predictors are\", list(top10), sep = \"\\t\")"
      ],
      "execution_count": 299,
      "outputs": [
        {
          "output_type": "stream",
          "text": [
            "The top 10 best predictors are\t['Var73', 'Var212_NhsEn4L', 'Var7', 'Var193_RO12', 'Var228_F2FyR07IdsN7I', 'Var144', 'Var113', 'Var205_sJzTlal', 'Var126', 'Var13']\n"
          ],
          "name": "stdout"
        }
      ]
    },
    {
      "cell_type": "code",
      "metadata": {
        "id": "m7zVz2HCMX5V"
      },
      "source": [
        "x_train_new = x_train[list(top15)]\n",
        "x_val_new = x_val[list(top15)]"
      ],
      "execution_count": 301,
      "outputs": []
    },
    {
      "cell_type": "code",
      "metadata": {
        "colab": {
          "base_uri": "https://localhost:8080/"
        },
        "id": "7HMHDGVcMcJK",
        "outputId": "cd797766-d509-430d-d3d2-759c12b38d90"
      },
      "source": [
        "lreg_app = LogisticRegression(random_state = 21)\n",
        "lreg_app.fit(x_train_new,y_train_app)"
      ],
      "execution_count": 302,
      "outputs": [
        {
          "output_type": "execute_result",
          "data": {
            "text/plain": [
              "LogisticRegression(C=1.0, class_weight=None, dual=False, fit_intercept=True,\n",
              "                   intercept_scaling=1, l1_ratio=None, max_iter=100,\n",
              "                   multi_class='auto', n_jobs=None, penalty='l2',\n",
              "                   random_state=21, solver='lbfgs', tol=0.0001, verbose=0,\n",
              "                   warm_start=False)"
            ]
          },
          "metadata": {
            "tags": []
          },
          "execution_count": 302
        }
      ]
    },
    {
      "cell_type": "code",
      "metadata": {
        "id": "H9vLo_mWMeHZ"
      },
      "source": [
        "y_train_pred_app = lreg_app.predict(x_train_new)\n",
        "y_val_pred_app = lreg_app.predict(x_val_new)"
      ],
      "execution_count": 303,
      "outputs": []
    },
    {
      "cell_type": "code",
      "metadata": {
        "colab": {
          "base_uri": "https://localhost:8080/"
        },
        "id": "_1INKDWXMgOn",
        "outputId": "0730328b-61a5-4a01-970b-fe7bf6105cf0"
      },
      "source": [
        "train_accuracy = accuracy_score(y_train_app, y_train_pred_app)\n",
        "validation_accuracy = accuracy_score(y_val_app, y_val_pred_app)\n",
        "print(\"Train Accuracy\", np.round(train_accuracy,3))\n",
        "print(\"Validation Accuracy\", np.round(validation_accuracy,3))"
      ],
      "execution_count": 304,
      "outputs": [
        {
          "output_type": "stream",
          "text": [
            "Train Accuracy 0.926\n",
            "Validation Accuracy 0.927\n"
          ],
          "name": "stdout"
        }
      ]
    },
    {
      "cell_type": "code",
      "metadata": {
        "colab": {
          "base_uri": "https://localhost:8080/",
          "height": 295
        },
        "id": "Gq8xK4AmMiXB",
        "outputId": "58c70279-730c-4cec-e17f-fa7299f885b9"
      },
      "source": [
        "conf_matrix = confusion_matrix(y_val_app, y_val_pred_app)\n",
        "plt.figure(figsize=(4, 4))\n",
        "sns.heatmap(conf_matrix,  annot=True,fmt=\"d\")\n",
        "plt.title(\"Confusion matrix\")\n",
        "plt.ylabel('True class')\n",
        "plt.xlabel('Predicted class')\n",
        "plt.show()"
      ],
      "execution_count": 305,
      "outputs": [
        {
          "output_type": "display_data",
          "data": {
            "image/png": "[encoded data removed]",
            "text/plain": [
              "<Figure size 288x288 with 2 Axes>"
            ]
          },
          "metadata": {
            "tags": [],
            "needs_background": "light"
          }
        }
      ]
    },
    {
      "cell_type": "code",
      "metadata": {
        "id": "DIjesvG1MlUp"
      },
      "source": [
        "# generate a no skill prediction (majority class)\n",
        "ns_app_probs = [0] * len(x_val_new)\n",
        "\n",
        "# predict probabilities\n",
        "lreg_app_probs = lreg_app.predict_proba(x_val_new)\n",
        "# keep probabilities for the positive outcome only\n",
        "lreg_app_probs = lreg_app_probs[:, 1]\n",
        "\n",
        "# calculate scores\n",
        "ns_auc_app = roc_auc_score(y_val_app, ns_app_probs)\n",
        "lr_auc_app = roc_auc_score(y_val_app, lreg_app_probs)"
      ],
      "execution_count": 306,
      "outputs": []
    },
    {
      "cell_type": "code",
      "metadata": {
        "colab": {
          "base_uri": "https://localhost:8080/"
        },
        "id": "wJKMsRFBMndH",
        "outputId": "ae34a9da-01a0-4bdf-eeea-4609540f2734"
      },
      "source": [
        "print('No Skill: ROC AUC=%.3f' % (ns_auc_app))\n",
        "print('Logistic: ROC AUC=%.3f' % (lr_auc_app))"
      ],
      "execution_count": 307,
      "outputs": [
        {
          "output_type": "stream",
          "text": [
            "No Skill: ROC AUC=0.500\n",
            "Logistic: ROC AUC=0.661\n"
          ],
          "name": "stdout"
        }
      ]
    },
    {
      "cell_type": "code",
      "metadata": {
        "colab": {
          "base_uri": "https://localhost:8080/"
        },
        "id": "petBtSnyMqZx",
        "outputId": "93dc9cb9-820b-4630-ddc9-60fb6d031627"
      },
      "source": [
        "f1_app = f1_score(y_val_app, y_val_pred_app)\n",
        "print(\"f1 score is \", np.round(f1_app,3))"
      ],
      "execution_count": 308,
      "outputs": [
        {
          "output_type": "stream",
          "text": [
            "f1 score is  0.0\n"
          ],
          "name": "stdout"
        }
      ]
    },
    {
      "cell_type": "markdown",
      "metadata": {
        "id": "0GtfCK_aMtta"
      },
      "source": [
        "# Data to csv"
      ]
    },
    {
      "cell_type": "code",
      "metadata": {
        "id": "pOrtD6OlMvcG"
      },
      "source": [
        "kdd_data.to_csv('kdd_data_cleaned.csv')"
      ],
      "execution_count": 309,
      "outputs": []
    }
  ]
}