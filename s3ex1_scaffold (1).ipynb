{
    "metadata": {
        "kernelspec": {
            "name": "python3",
            "display_name": "Python 3",
            "language": "python"
        }
    },
    "nbformat": 4,
    "nbformat_minor": 4,
    "cells": [
        {
            "cell_type": "code",
            "execution_count": 15,
            "metadata": {},
            "outputs": [],
            "source": [
                "# Import necessary libraries\n",
                "import numpy as np\n",
                "import pickle"
            ]
        },
        {
            "cell_type": "code",
            "execution_count": 16,
            "metadata": {},
            "outputs": [],
            "source": [
                "# Use the code below to import a small subset of pretrained embedding values \n",
                "# from a word2vec model trained on google news\n",
                "# In the Lab we will see how to train these embeddings from scratch\n",
                "with open('custom_embeddings.pkl', 'rb') as file:\n",
                "    embeddings = pickle.load(file)"
            ]
        },
        {
            "cell_type": "code",
            "execution_count": 17,
            "metadata": {},
            "outputs": [
                {
                    "data": {
                        "text/plain": "(300,)"
                    },
                    "execution_count": 17,
                    "metadata": {},
                    "output_type": "execute_result"
                }
            ],
            "source": [
                "embeddings['king'].shape"
            ]
        },
        {
            "attachments": {},
            "cell_type": "markdown",
            "metadata": {},
            "source": [
                "### ⏸ For each item in this embeddings dictionary, what is the dimension of the vector?\n",
                "\n",
                "\n",
                "#### A. 50\n",
                "#### B. 100\n",
                "#### C. 300\n",
                "#### D. 2000"
            ]
        },
        {
            "cell_type": "code",
            "execution_count": 18,
            "metadata": {},
            "outputs": [],
            "source": [
                "### edTest(test_chow1) ###\n",
                "# Submit an answer choice as a string below (eg. if you choose option A, put 'A')\n",
                "answer1 = 'C'"
            ]
        },
        {
            "attachments": {},
            "cell_type": "markdown",
            "metadata": {},
            "source": [
                "## Define the similarity function\n",
                "To operate in the embedding space, we will use Cosine Similarity, given by:\n",
                "$$K(X, Y) = \\frac{X \\cdot Y}{ ||X||||Y||}.$$"
            ]
        },
        {
            "cell_type": "code",
            "execution_count": 19,
            "metadata": {},
            "outputs": [],
            "source": [
                "# Write a function that returns the cosine similarity based on the formula above\n",
                "def cosine_similarity(vectorA,vectorB):\n",
                "    # VectorA \u0026 VectorB are numpy arrays \n",
                "    # Use numpy operations (from hint) to calculate the cosine similarity\n",
                "    return np.dot(vectorA,vectorB)/(np.linalg.norm(vectorA) * np.linalg.norm(vectorB))"
            ]
        },
        {
            "cell_type": "code",
            "execution_count": 20,
            "metadata": {},
            "outputs": [],
            "source": [
                "x = [7,16,14,4]\n",
                "y1 = [14,4,14,7]\n",
                "y2 = [0,0,5,7]\n",
                "y3 = [2,7,0,7]\n",
                "y4 = [1,16,4,9]"
            ]
        },
        {
            "cell_type": "code",
            "execution_count": 7,
            "metadata": {},
            "outputs": [
                {
                    "data": {
                        "text/plain": "(0.7941159757410043, 0.5010314000124355, 0.6706182428932972, 0.82981532384042)"
                    },
                    "execution_count": 7,
                    "metadata": {},
                    "output_type": "execute_result"
                }
            ],
            "source": [
                "cosine_similarity(x,y1), cosine_similarity(x,y2), cosine_similarity(x,y3), cosine_similarity(x,y4)"
            ]
        },
        {
            "cell_type": "code",
            "execution_count": 14,
            "metadata": {},
            "outputs": [
                {
                    "data": {
                        "text/plain": "0.96"
                    },
                    "execution_count": 14,
                    "metadata": {},
                    "output_type": "execute_result"
                }
            ],
            "source": [
                "cosine_similarity([3,4],[4,3])"
            ]
        },
        {
            "attachments": {},
            "cell_type": "markdown",
            "metadata": {},
            "source": [
                "### ⏸ Consider the vector $(7,16,14,4)$ in $R^4$ space. \n",
                "\n",
                "#### Which vector from below has the highest cosine similarity with it?\n",
                "\n",
                "\n",
                "#### A. $[14,4,14,7]$\n",
                "#### B. $[0,0,5,7]$\n",
                "#### C. $[2,7,0,7]$\n",
                "#### D. $[1,16,4,9]$"
            ]
        },
        {
            "cell_type": "code",
            "execution_count": 8,
            "metadata": {},
            "outputs": [],
            "source": [
                "### edTest(test_chow2) ###\n",
                "# Submit an answer choice as a string below (eg. if you choose option A, put 'A')\n",
                "answer2 = 'D'"
            ]
        },
        {
            "cell_type": "code",
            "execution_count": 9,
            "metadata": {},
            "outputs": [],
            "source": [
                "# We use the embeddings file to define the embeddings of 3 words\n",
                "awesome = embeddings['awesome']\n",
                "eagle = embeddings['eagle']\n",
                "man = embeddings['man']\n",
                "\n",
                "# We find the vector `awesome - eagle + man`\n",
                "custom_vector = awesome - eagle + man"
            ]
        },
        {
            "cell_type": "code",
            "execution_count": 10,
            "metadata": {},
            "outputs": [],
            "source": [
                "words = list(embeddings.keys())\n",
                "words.remove('awesome')\n",
                "words.remove('eagle')\n",
                "words.remove('man')"
            ]
        },
        {
            "cell_type": "code",
            "execution_count": 11,
            "metadata": {},
            "outputs": [],
            "source": [
                "# Find the cosine similarity values \n",
                "# with every vector in the embeddings dictionary \n",
                "# other than the ones used to compute the vector\n",
                "# HINT: It should be a dictionary with keys as words\n",
                "# and the values as the cosine_similarity with `custom_vector` \n",
                "cosine_values = {}\n",
                "\n",
                "for i in words: \n",
                "    cosine_values[i] = cosine_similarity(custom_vector, embeddings[i])"
            ]
        },
        {
            "cell_type": "code",
            "execution_count": 12,
            "metadata": {},
            "outputs": [
                {
                    "name": "stdout",
                    "output_type": "stream",
                    "text": "Most similar to `awesome - eagle + man` from embeddings the list is `pavlos`\n"
                }
            ],
            "source": [
                "# Find the embedding that is closest to `custom_vector`\n",
                "# HINT: It will be the word that has the highest cosine similarity\n",
                "# to custom vector\n",
                "closest = max(cosine_values, key=cosine_values.get)\n",
                "\n",
                "print(f'Most similar to `awesome - eagle + man` from embeddings the list is `{closest}`')"
            ]
        },
        {
            "attachments": {},
            "cell_type": "markdown",
            "metadata": {},
            "source": [
                "## Mindchow 🍲\n",
                "\n",
                "Now try the same with the `king - man + girl` example. \n",
                "Which word is closest to it?"
            ]
        },
        {
            "cell_type": "code",
            "execution_count": 24,
            "metadata": {},
            "outputs": [],
            "source": [
                "king = embeddings['king']\n",
                "girl = embeddings['girl']\n",
                "man = embeddings['man']\n",
                "\n",
                "# We find the vector `awesome - eagle + man`\n",
                "custom_vector2 =  king - man + girl"
            ]
        },
        {
            "cell_type": "code",
            "execution_count": 22,
            "metadata": {},
            "outputs": [],
            "source": [
                "words = list(embeddings.keys())\n",
                "words.remove('king')\n",
                "words.remove('girl')\n",
                "words.remove('man')"
            ]
        },
        {
            "cell_type": "code",
            "execution_count": 25,
            "metadata": {},
            "outputs": [],
            "source": [
                "cosine_values = {}\n",
                "\n",
                "for i in words: \n",
                "    cosine_values[i] = cosine_similarity(custom_vector2, embeddings[i])"
            ]
        },
        {
            "cell_type": "code",
            "execution_count": 26,
            "metadata": {},
            "outputs": [],
            "source": [
                "closest = max(cosine_values, key=cosine_values.get)"
            ]
        },
        {
            "cell_type": "code",
            "execution_count": 27,
            "metadata": {},
            "outputs": [
                {
                    "data": {
                        "text/plain": "'princess'"
                    },
                    "execution_count": 27,
                    "metadata": {},
                    "output_type": "execute_result"
                }
            ],
            "source": [
                "closest"
            ]
        },
        {
            "cell_type": "code",
            "execution_count": 29,
            "metadata": {},
            "outputs": [],
            "source": [
                "### edTest(test_chow3) ###\n",
                "# Enter the embedding array closest to the above combination.\n",
                "# i.e type(answer_vector) = np.array\n",
                "answer_vector = embeddings[closest]"
            ]
        },
        {
            "cell_type": "code",
            "execution_count": 0,
            "metadata": {},
            "outputs": [],
            "source": [
                ""
            ]
        }
    ]
}
